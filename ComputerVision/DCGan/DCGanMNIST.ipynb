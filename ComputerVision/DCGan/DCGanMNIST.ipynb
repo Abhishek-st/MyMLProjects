{
  "nbformat": 4,
  "nbformat_minor": 0,
  "metadata": {
    "colab": {
      "name": "Untitled0.ipynb",
      "provenance": [],
      "collapsed_sections": []
    },
    "kernelspec": {
      "name": "python3",
      "display_name": "Python 3"
    },
    "accelerator": "GPU",
    "widgets": {
      "application/vnd.jupyter.widget-state+json": {
        "573512dc6e1f4af2b44166acc907a4cd": {
          "model_module": "@jupyter-widgets/controls",
          "model_name": "HBoxModel",
          "state": {
            "_view_name": "HBoxView",
            "_dom_classes": [],
            "_model_name": "HBoxModel",
            "_view_module": "@jupyter-widgets/controls",
            "_model_module_version": "1.5.0",
            "_view_count": null,
            "_view_module_version": "1.5.0",
            "box_style": "",
            "layout": "IPY_MODEL_0538b9d326374589ba1fc98e5cc52717",
            "_model_module": "@jupyter-widgets/controls",
            "children": [
              "IPY_MODEL_41c09041054546a48ed4acc5977d97c8",
              "IPY_MODEL_3b608155764d44299524b495f47c7fce"
            ]
          }
        },
        "0538b9d326374589ba1fc98e5cc52717": {
          "model_module": "@jupyter-widgets/base",
          "model_name": "LayoutModel",
          "state": {
            "_view_name": "LayoutView",
            "grid_template_rows": null,
            "right": null,
            "justify_content": null,
            "_view_module": "@jupyter-widgets/base",
            "overflow": null,
            "_model_module_version": "1.2.0",
            "_view_count": null,
            "flex_flow": null,
            "width": null,
            "min_width": null,
            "border": null,
            "align_items": null,
            "bottom": null,
            "_model_module": "@jupyter-widgets/base",
            "top": null,
            "grid_column": null,
            "overflow_y": null,
            "overflow_x": null,
            "grid_auto_flow": null,
            "grid_area": null,
            "grid_template_columns": null,
            "flex": null,
            "_model_name": "LayoutModel",
            "justify_items": null,
            "grid_row": null,
            "max_height": null,
            "align_content": null,
            "visibility": null,
            "align_self": null,
            "height": null,
            "min_height": null,
            "padding": null,
            "grid_auto_rows": null,
            "grid_gap": null,
            "max_width": null,
            "order": null,
            "_view_module_version": "1.2.0",
            "grid_template_areas": null,
            "object_position": null,
            "object_fit": null,
            "grid_auto_columns": null,
            "margin": null,
            "display": null,
            "left": null
          }
        },
        "41c09041054546a48ed4acc5977d97c8": {
          "model_module": "@jupyter-widgets/controls",
          "model_name": "FloatProgressModel",
          "state": {
            "_view_name": "ProgressView",
            "style": "IPY_MODEL_07a7d4581df84581a5bc9c6bd12f4746",
            "_dom_classes": [],
            "description": "",
            "_model_name": "FloatProgressModel",
            "bar_style": "info",
            "max": 1,
            "_view_module": "@jupyter-widgets/controls",
            "_model_module_version": "1.5.0",
            "value": 1,
            "_view_count": null,
            "_view_module_version": "1.5.0",
            "orientation": "horizontal",
            "min": 0,
            "description_tooltip": null,
            "_model_module": "@jupyter-widgets/controls",
            "layout": "IPY_MODEL_2fc6ac57069d44c3b07530d14c81af99"
          }
        },
        "3b608155764d44299524b495f47c7fce": {
          "model_module": "@jupyter-widgets/controls",
          "model_name": "HTMLModel",
          "state": {
            "_view_name": "HTMLView",
            "style": "IPY_MODEL_dffb9c7adc554b12ab70602bedcfa06c",
            "_dom_classes": [],
            "description": "",
            "_model_name": "HTMLModel",
            "placeholder": "​",
            "_view_module": "@jupyter-widgets/controls",
            "_model_module_version": "1.5.0",
            "value": " 9920512/? [00:19&lt;00:00, 1322422.29it/s]",
            "_view_count": null,
            "_view_module_version": "1.5.0",
            "description_tooltip": null,
            "_model_module": "@jupyter-widgets/controls",
            "layout": "IPY_MODEL_efd166c82aa844998f782871583e0632"
          }
        },
        "07a7d4581df84581a5bc9c6bd12f4746": {
          "model_module": "@jupyter-widgets/controls",
          "model_name": "ProgressStyleModel",
          "state": {
            "_view_name": "StyleView",
            "_model_name": "ProgressStyleModel",
            "description_width": "initial",
            "_view_module": "@jupyter-widgets/base",
            "_model_module_version": "1.5.0",
            "_view_count": null,
            "_view_module_version": "1.2.0",
            "bar_color": null,
            "_model_module": "@jupyter-widgets/controls"
          }
        },
        "2fc6ac57069d44c3b07530d14c81af99": {
          "model_module": "@jupyter-widgets/base",
          "model_name": "LayoutModel",
          "state": {
            "_view_name": "LayoutView",
            "grid_template_rows": null,
            "right": null,
            "justify_content": null,
            "_view_module": "@jupyter-widgets/base",
            "overflow": null,
            "_model_module_version": "1.2.0",
            "_view_count": null,
            "flex_flow": null,
            "width": null,
            "min_width": null,
            "border": null,
            "align_items": null,
            "bottom": null,
            "_model_module": "@jupyter-widgets/base",
            "top": null,
            "grid_column": null,
            "overflow_y": null,
            "overflow_x": null,
            "grid_auto_flow": null,
            "grid_area": null,
            "grid_template_columns": null,
            "flex": null,
            "_model_name": "LayoutModel",
            "justify_items": null,
            "grid_row": null,
            "max_height": null,
            "align_content": null,
            "visibility": null,
            "align_self": null,
            "height": null,
            "min_height": null,
            "padding": null,
            "grid_auto_rows": null,
            "grid_gap": null,
            "max_width": null,
            "order": null,
            "_view_module_version": "1.2.0",
            "grid_template_areas": null,
            "object_position": null,
            "object_fit": null,
            "grid_auto_columns": null,
            "margin": null,
            "display": null,
            "left": null
          }
        },
        "dffb9c7adc554b12ab70602bedcfa06c": {
          "model_module": "@jupyter-widgets/controls",
          "model_name": "DescriptionStyleModel",
          "state": {
            "_view_name": "StyleView",
            "_model_name": "DescriptionStyleModel",
            "description_width": "",
            "_view_module": "@jupyter-widgets/base",
            "_model_module_version": "1.5.0",
            "_view_count": null,
            "_view_module_version": "1.2.0",
            "_model_module": "@jupyter-widgets/controls"
          }
        },
        "efd166c82aa844998f782871583e0632": {
          "model_module": "@jupyter-widgets/base",
          "model_name": "LayoutModel",
          "state": {
            "_view_name": "LayoutView",
            "grid_template_rows": null,
            "right": null,
            "justify_content": null,
            "_view_module": "@jupyter-widgets/base",
            "overflow": null,
            "_model_module_version": "1.2.0",
            "_view_count": null,
            "flex_flow": null,
            "width": null,
            "min_width": null,
            "border": null,
            "align_items": null,
            "bottom": null,
            "_model_module": "@jupyter-widgets/base",
            "top": null,
            "grid_column": null,
            "overflow_y": null,
            "overflow_x": null,
            "grid_auto_flow": null,
            "grid_area": null,
            "grid_template_columns": null,
            "flex": null,
            "_model_name": "LayoutModel",
            "justify_items": null,
            "grid_row": null,
            "max_height": null,
            "align_content": null,
            "visibility": null,
            "align_self": null,
            "height": null,
            "min_height": null,
            "padding": null,
            "grid_auto_rows": null,
            "grid_gap": null,
            "max_width": null,
            "order": null,
            "_view_module_version": "1.2.0",
            "grid_template_areas": null,
            "object_position": null,
            "object_fit": null,
            "grid_auto_columns": null,
            "margin": null,
            "display": null,
            "left": null
          }
        },
        "7269c0f653d3472db1d9470d1501ae8f": {
          "model_module": "@jupyter-widgets/controls",
          "model_name": "HBoxModel",
          "state": {
            "_view_name": "HBoxView",
            "_dom_classes": [],
            "_model_name": "HBoxModel",
            "_view_module": "@jupyter-widgets/controls",
            "_model_module_version": "1.5.0",
            "_view_count": null,
            "_view_module_version": "1.5.0",
            "box_style": "",
            "layout": "IPY_MODEL_f6fa3a2405f142fcaa112e0dd29b2c45",
            "_model_module": "@jupyter-widgets/controls",
            "children": [
              "IPY_MODEL_fa7917aa9fa44bf6a2aa32521514c6b3",
              "IPY_MODEL_df021933a9514df8a5264452f1abfd6a"
            ]
          }
        },
        "f6fa3a2405f142fcaa112e0dd29b2c45": {
          "model_module": "@jupyter-widgets/base",
          "model_name": "LayoutModel",
          "state": {
            "_view_name": "LayoutView",
            "grid_template_rows": null,
            "right": null,
            "justify_content": null,
            "_view_module": "@jupyter-widgets/base",
            "overflow": null,
            "_model_module_version": "1.2.0",
            "_view_count": null,
            "flex_flow": null,
            "width": null,
            "min_width": null,
            "border": null,
            "align_items": null,
            "bottom": null,
            "_model_module": "@jupyter-widgets/base",
            "top": null,
            "grid_column": null,
            "overflow_y": null,
            "overflow_x": null,
            "grid_auto_flow": null,
            "grid_area": null,
            "grid_template_columns": null,
            "flex": null,
            "_model_name": "LayoutModel",
            "justify_items": null,
            "grid_row": null,
            "max_height": null,
            "align_content": null,
            "visibility": null,
            "align_self": null,
            "height": null,
            "min_height": null,
            "padding": null,
            "grid_auto_rows": null,
            "grid_gap": null,
            "max_width": null,
            "order": null,
            "_view_module_version": "1.2.0",
            "grid_template_areas": null,
            "object_position": null,
            "object_fit": null,
            "grid_auto_columns": null,
            "margin": null,
            "display": null,
            "left": null
          }
        },
        "fa7917aa9fa44bf6a2aa32521514c6b3": {
          "model_module": "@jupyter-widgets/controls",
          "model_name": "FloatProgressModel",
          "state": {
            "_view_name": "ProgressView",
            "style": "IPY_MODEL_e16c386e14bd4fcdbbda0d9a82528acd",
            "_dom_classes": [],
            "description": "",
            "_model_name": "FloatProgressModel",
            "bar_style": "success",
            "max": 1,
            "_view_module": "@jupyter-widgets/controls",
            "_model_module_version": "1.5.0",
            "value": 1,
            "_view_count": null,
            "_view_module_version": "1.5.0",
            "orientation": "horizontal",
            "min": 0,
            "description_tooltip": null,
            "_model_module": "@jupyter-widgets/controls",
            "layout": "IPY_MODEL_3212db62ec8d4353a607f1258189c58b"
          }
        },
        "df021933a9514df8a5264452f1abfd6a": {
          "model_module": "@jupyter-widgets/controls",
          "model_name": "HTMLModel",
          "state": {
            "_view_name": "HTMLView",
            "style": "IPY_MODEL_53137b61a8c6485096e564f114bd063d",
            "_dom_classes": [],
            "description": "",
            "_model_name": "HTMLModel",
            "placeholder": "​",
            "_view_module": "@jupyter-widgets/controls",
            "_model_module_version": "1.5.0",
            "value": " 32768/? [00:00&lt;00:00, 101397.29it/s]",
            "_view_count": null,
            "_view_module_version": "1.5.0",
            "description_tooltip": null,
            "_model_module": "@jupyter-widgets/controls",
            "layout": "IPY_MODEL_9e2eeee671694ceb8d5e59120a73b143"
          }
        },
        "e16c386e14bd4fcdbbda0d9a82528acd": {
          "model_module": "@jupyter-widgets/controls",
          "model_name": "ProgressStyleModel",
          "state": {
            "_view_name": "StyleView",
            "_model_name": "ProgressStyleModel",
            "description_width": "initial",
            "_view_module": "@jupyter-widgets/base",
            "_model_module_version": "1.5.0",
            "_view_count": null,
            "_view_module_version": "1.2.0",
            "bar_color": null,
            "_model_module": "@jupyter-widgets/controls"
          }
        },
        "3212db62ec8d4353a607f1258189c58b": {
          "model_module": "@jupyter-widgets/base",
          "model_name": "LayoutModel",
          "state": {
            "_view_name": "LayoutView",
            "grid_template_rows": null,
            "right": null,
            "justify_content": null,
            "_view_module": "@jupyter-widgets/base",
            "overflow": null,
            "_model_module_version": "1.2.0",
            "_view_count": null,
            "flex_flow": null,
            "width": null,
            "min_width": null,
            "border": null,
            "align_items": null,
            "bottom": null,
            "_model_module": "@jupyter-widgets/base",
            "top": null,
            "grid_column": null,
            "overflow_y": null,
            "overflow_x": null,
            "grid_auto_flow": null,
            "grid_area": null,
            "grid_template_columns": null,
            "flex": null,
            "_model_name": "LayoutModel",
            "justify_items": null,
            "grid_row": null,
            "max_height": null,
            "align_content": null,
            "visibility": null,
            "align_self": null,
            "height": null,
            "min_height": null,
            "padding": null,
            "grid_auto_rows": null,
            "grid_gap": null,
            "max_width": null,
            "order": null,
            "_view_module_version": "1.2.0",
            "grid_template_areas": null,
            "object_position": null,
            "object_fit": null,
            "grid_auto_columns": null,
            "margin": null,
            "display": null,
            "left": null
          }
        },
        "53137b61a8c6485096e564f114bd063d": {
          "model_module": "@jupyter-widgets/controls",
          "model_name": "DescriptionStyleModel",
          "state": {
            "_view_name": "StyleView",
            "_model_name": "DescriptionStyleModel",
            "description_width": "",
            "_view_module": "@jupyter-widgets/base",
            "_model_module_version": "1.5.0",
            "_view_count": null,
            "_view_module_version": "1.2.0",
            "_model_module": "@jupyter-widgets/controls"
          }
        },
        "9e2eeee671694ceb8d5e59120a73b143": {
          "model_module": "@jupyter-widgets/base",
          "model_name": "LayoutModel",
          "state": {
            "_view_name": "LayoutView",
            "grid_template_rows": null,
            "right": null,
            "justify_content": null,
            "_view_module": "@jupyter-widgets/base",
            "overflow": null,
            "_model_module_version": "1.2.0",
            "_view_count": null,
            "flex_flow": null,
            "width": null,
            "min_width": null,
            "border": null,
            "align_items": null,
            "bottom": null,
            "_model_module": "@jupyter-widgets/base",
            "top": null,
            "grid_column": null,
            "overflow_y": null,
            "overflow_x": null,
            "grid_auto_flow": null,
            "grid_area": null,
            "grid_template_columns": null,
            "flex": null,
            "_model_name": "LayoutModel",
            "justify_items": null,
            "grid_row": null,
            "max_height": null,
            "align_content": null,
            "visibility": null,
            "align_self": null,
            "height": null,
            "min_height": null,
            "padding": null,
            "grid_auto_rows": null,
            "grid_gap": null,
            "max_width": null,
            "order": null,
            "_view_module_version": "1.2.0",
            "grid_template_areas": null,
            "object_position": null,
            "object_fit": null,
            "grid_auto_columns": null,
            "margin": null,
            "display": null,
            "left": null
          }
        },
        "0d90d42d7a044bda928d15575f95a155": {
          "model_module": "@jupyter-widgets/controls",
          "model_name": "HBoxModel",
          "state": {
            "_view_name": "HBoxView",
            "_dom_classes": [],
            "_model_name": "HBoxModel",
            "_view_module": "@jupyter-widgets/controls",
            "_model_module_version": "1.5.0",
            "_view_count": null,
            "_view_module_version": "1.5.0",
            "box_style": "",
            "layout": "IPY_MODEL_f41bdccd98d2474a8050728ccf88fc56",
            "_model_module": "@jupyter-widgets/controls",
            "children": [
              "IPY_MODEL_f44d4bf25d1f44149f78472cbe167b49",
              "IPY_MODEL_150302d23d734f55a19aeb0e168e586d"
            ]
          }
        },
        "f41bdccd98d2474a8050728ccf88fc56": {
          "model_module": "@jupyter-widgets/base",
          "model_name": "LayoutModel",
          "state": {
            "_view_name": "LayoutView",
            "grid_template_rows": null,
            "right": null,
            "justify_content": null,
            "_view_module": "@jupyter-widgets/base",
            "overflow": null,
            "_model_module_version": "1.2.0",
            "_view_count": null,
            "flex_flow": null,
            "width": null,
            "min_width": null,
            "border": null,
            "align_items": null,
            "bottom": null,
            "_model_module": "@jupyter-widgets/base",
            "top": null,
            "grid_column": null,
            "overflow_y": null,
            "overflow_x": null,
            "grid_auto_flow": null,
            "grid_area": null,
            "grid_template_columns": null,
            "flex": null,
            "_model_name": "LayoutModel",
            "justify_items": null,
            "grid_row": null,
            "max_height": null,
            "align_content": null,
            "visibility": null,
            "align_self": null,
            "height": null,
            "min_height": null,
            "padding": null,
            "grid_auto_rows": null,
            "grid_gap": null,
            "max_width": null,
            "order": null,
            "_view_module_version": "1.2.0",
            "grid_template_areas": null,
            "object_position": null,
            "object_fit": null,
            "grid_auto_columns": null,
            "margin": null,
            "display": null,
            "left": null
          }
        },
        "f44d4bf25d1f44149f78472cbe167b49": {
          "model_module": "@jupyter-widgets/controls",
          "model_name": "FloatProgressModel",
          "state": {
            "_view_name": "ProgressView",
            "style": "IPY_MODEL_df7a774b05694983a38ced05bc3cd772",
            "_dom_classes": [],
            "description": "",
            "_model_name": "FloatProgressModel",
            "bar_style": "info",
            "max": 1,
            "_view_module": "@jupyter-widgets/controls",
            "_model_module_version": "1.5.0",
            "value": 1,
            "_view_count": null,
            "_view_module_version": "1.5.0",
            "orientation": "horizontal",
            "min": 0,
            "description_tooltip": null,
            "_model_module": "@jupyter-widgets/controls",
            "layout": "IPY_MODEL_e3a99c5fc8a448b6bfcb0e19f187abb7"
          }
        },
        "150302d23d734f55a19aeb0e168e586d": {
          "model_module": "@jupyter-widgets/controls",
          "model_name": "HTMLModel",
          "state": {
            "_view_name": "HTMLView",
            "style": "IPY_MODEL_56b1ec25a18b4c699d0bffe15c14b23a",
            "_dom_classes": [],
            "description": "",
            "_model_name": "HTMLModel",
            "placeholder": "​",
            "_view_module": "@jupyter-widgets/controls",
            "_model_module_version": "1.5.0",
            "value": " 1654784/? [00:17&lt;00:00, 250625.96it/s]",
            "_view_count": null,
            "_view_module_version": "1.5.0",
            "description_tooltip": null,
            "_model_module": "@jupyter-widgets/controls",
            "layout": "IPY_MODEL_575fa9c207d94b3a9dc68b52ad63e682"
          }
        },
        "df7a774b05694983a38ced05bc3cd772": {
          "model_module": "@jupyter-widgets/controls",
          "model_name": "ProgressStyleModel",
          "state": {
            "_view_name": "StyleView",
            "_model_name": "ProgressStyleModel",
            "description_width": "initial",
            "_view_module": "@jupyter-widgets/base",
            "_model_module_version": "1.5.0",
            "_view_count": null,
            "_view_module_version": "1.2.0",
            "bar_color": null,
            "_model_module": "@jupyter-widgets/controls"
          }
        },
        "e3a99c5fc8a448b6bfcb0e19f187abb7": {
          "model_module": "@jupyter-widgets/base",
          "model_name": "LayoutModel",
          "state": {
            "_view_name": "LayoutView",
            "grid_template_rows": null,
            "right": null,
            "justify_content": null,
            "_view_module": "@jupyter-widgets/base",
            "overflow": null,
            "_model_module_version": "1.2.0",
            "_view_count": null,
            "flex_flow": null,
            "width": null,
            "min_width": null,
            "border": null,
            "align_items": null,
            "bottom": null,
            "_model_module": "@jupyter-widgets/base",
            "top": null,
            "grid_column": null,
            "overflow_y": null,
            "overflow_x": null,
            "grid_auto_flow": null,
            "grid_area": null,
            "grid_template_columns": null,
            "flex": null,
            "_model_name": "LayoutModel",
            "justify_items": null,
            "grid_row": null,
            "max_height": null,
            "align_content": null,
            "visibility": null,
            "align_self": null,
            "height": null,
            "min_height": null,
            "padding": null,
            "grid_auto_rows": null,
            "grid_gap": null,
            "max_width": null,
            "order": null,
            "_view_module_version": "1.2.0",
            "grid_template_areas": null,
            "object_position": null,
            "object_fit": null,
            "grid_auto_columns": null,
            "margin": null,
            "display": null,
            "left": null
          }
        },
        "56b1ec25a18b4c699d0bffe15c14b23a": {
          "model_module": "@jupyter-widgets/controls",
          "model_name": "DescriptionStyleModel",
          "state": {
            "_view_name": "StyleView",
            "_model_name": "DescriptionStyleModel",
            "description_width": "",
            "_view_module": "@jupyter-widgets/base",
            "_model_module_version": "1.5.0",
            "_view_count": null,
            "_view_module_version": "1.2.0",
            "_model_module": "@jupyter-widgets/controls"
          }
        },
        "575fa9c207d94b3a9dc68b52ad63e682": {
          "model_module": "@jupyter-widgets/base",
          "model_name": "LayoutModel",
          "state": {
            "_view_name": "LayoutView",
            "grid_template_rows": null,
            "right": null,
            "justify_content": null,
            "_view_module": "@jupyter-widgets/base",
            "overflow": null,
            "_model_module_version": "1.2.0",
            "_view_count": null,
            "flex_flow": null,
            "width": null,
            "min_width": null,
            "border": null,
            "align_items": null,
            "bottom": null,
            "_model_module": "@jupyter-widgets/base",
            "top": null,
            "grid_column": null,
            "overflow_y": null,
            "overflow_x": null,
            "grid_auto_flow": null,
            "grid_area": null,
            "grid_template_columns": null,
            "flex": null,
            "_model_name": "LayoutModel",
            "justify_items": null,
            "grid_row": null,
            "max_height": null,
            "align_content": null,
            "visibility": null,
            "align_self": null,
            "height": null,
            "min_height": null,
            "padding": null,
            "grid_auto_rows": null,
            "grid_gap": null,
            "max_width": null,
            "order": null,
            "_view_module_version": "1.2.0",
            "grid_template_areas": null,
            "object_position": null,
            "object_fit": null,
            "grid_auto_columns": null,
            "margin": null,
            "display": null,
            "left": null
          }
        },
        "c6d06792b1a244d9b1d97c53de1a909c": {
          "model_module": "@jupyter-widgets/controls",
          "model_name": "HBoxModel",
          "state": {
            "_view_name": "HBoxView",
            "_dom_classes": [],
            "_model_name": "HBoxModel",
            "_view_module": "@jupyter-widgets/controls",
            "_model_module_version": "1.5.0",
            "_view_count": null,
            "_view_module_version": "1.5.0",
            "box_style": "",
            "layout": "IPY_MODEL_90b7f2a7543440178e6bbb6409dfc9da",
            "_model_module": "@jupyter-widgets/controls",
            "children": [
              "IPY_MODEL_003e794d152840c089e646ff6bb04bf1",
              "IPY_MODEL_842b77a237cf41ec8dde8b71c5e62f39"
            ]
          }
        },
        "90b7f2a7543440178e6bbb6409dfc9da": {
          "model_module": "@jupyter-widgets/base",
          "model_name": "LayoutModel",
          "state": {
            "_view_name": "LayoutView",
            "grid_template_rows": null,
            "right": null,
            "justify_content": null,
            "_view_module": "@jupyter-widgets/base",
            "overflow": null,
            "_model_module_version": "1.2.0",
            "_view_count": null,
            "flex_flow": null,
            "width": null,
            "min_width": null,
            "border": null,
            "align_items": null,
            "bottom": null,
            "_model_module": "@jupyter-widgets/base",
            "top": null,
            "grid_column": null,
            "overflow_y": null,
            "overflow_x": null,
            "grid_auto_flow": null,
            "grid_area": null,
            "grid_template_columns": null,
            "flex": null,
            "_model_name": "LayoutModel",
            "justify_items": null,
            "grid_row": null,
            "max_height": null,
            "align_content": null,
            "visibility": null,
            "align_self": null,
            "height": null,
            "min_height": null,
            "padding": null,
            "grid_auto_rows": null,
            "grid_gap": null,
            "max_width": null,
            "order": null,
            "_view_module_version": "1.2.0",
            "grid_template_areas": null,
            "object_position": null,
            "object_fit": null,
            "grid_auto_columns": null,
            "margin": null,
            "display": null,
            "left": null
          }
        },
        "003e794d152840c089e646ff6bb04bf1": {
          "model_module": "@jupyter-widgets/controls",
          "model_name": "FloatProgressModel",
          "state": {
            "_view_name": "ProgressView",
            "style": "IPY_MODEL_43d1e8e31f2e40b5a858ca21828791ea",
            "_dom_classes": [],
            "description": "  0%",
            "_model_name": "FloatProgressModel",
            "bar_style": "info",
            "max": 1,
            "_view_module": "@jupyter-widgets/controls",
            "_model_module_version": "1.5.0",
            "value": 0,
            "_view_count": null,
            "_view_module_version": "1.5.0",
            "orientation": "horizontal",
            "min": 0,
            "description_tooltip": null,
            "_model_module": "@jupyter-widgets/controls",
            "layout": "IPY_MODEL_0296949a519f4435911978aee781901a"
          }
        },
        "842b77a237cf41ec8dde8b71c5e62f39": {
          "model_module": "@jupyter-widgets/controls",
          "model_name": "HTMLModel",
          "state": {
            "_view_name": "HTMLView",
            "style": "IPY_MODEL_206833d3a571450bab3e8dc116331382",
            "_dom_classes": [],
            "description": "",
            "_model_name": "HTMLModel",
            "placeholder": "​",
            "_view_module": "@jupyter-widgets/controls",
            "_model_module_version": "1.5.0",
            "value": " 0/4542 [00:00&lt;?, ?it/s]",
            "_view_count": null,
            "_view_module_version": "1.5.0",
            "description_tooltip": null,
            "_model_module": "@jupyter-widgets/controls",
            "layout": "IPY_MODEL_5c1756b395fd4233b9816848d18e37b4"
          }
        },
        "43d1e8e31f2e40b5a858ca21828791ea": {
          "model_module": "@jupyter-widgets/controls",
          "model_name": "ProgressStyleModel",
          "state": {
            "_view_name": "StyleView",
            "_model_name": "ProgressStyleModel",
            "description_width": "initial",
            "_view_module": "@jupyter-widgets/base",
            "_model_module_version": "1.5.0",
            "_view_count": null,
            "_view_module_version": "1.2.0",
            "bar_color": null,
            "_model_module": "@jupyter-widgets/controls"
          }
        },
        "0296949a519f4435911978aee781901a": {
          "model_module": "@jupyter-widgets/base",
          "model_name": "LayoutModel",
          "state": {
            "_view_name": "LayoutView",
            "grid_template_rows": null,
            "right": null,
            "justify_content": null,
            "_view_module": "@jupyter-widgets/base",
            "overflow": null,
            "_model_module_version": "1.2.0",
            "_view_count": null,
            "flex_flow": null,
            "width": null,
            "min_width": null,
            "border": null,
            "align_items": null,
            "bottom": null,
            "_model_module": "@jupyter-widgets/base",
            "top": null,
            "grid_column": null,
            "overflow_y": null,
            "overflow_x": null,
            "grid_auto_flow": null,
            "grid_area": null,
            "grid_template_columns": null,
            "flex": null,
            "_model_name": "LayoutModel",
            "justify_items": null,
            "grid_row": null,
            "max_height": null,
            "align_content": null,
            "visibility": null,
            "align_self": null,
            "height": null,
            "min_height": null,
            "padding": null,
            "grid_auto_rows": null,
            "grid_gap": null,
            "max_width": null,
            "order": null,
            "_view_module_version": "1.2.0",
            "grid_template_areas": null,
            "object_position": null,
            "object_fit": null,
            "grid_auto_columns": null,
            "margin": null,
            "display": null,
            "left": null
          }
        },
        "206833d3a571450bab3e8dc116331382": {
          "model_module": "@jupyter-widgets/controls",
          "model_name": "DescriptionStyleModel",
          "state": {
            "_view_name": "StyleView",
            "_model_name": "DescriptionStyleModel",
            "description_width": "",
            "_view_module": "@jupyter-widgets/base",
            "_model_module_version": "1.5.0",
            "_view_count": null,
            "_view_module_version": "1.2.0",
            "_model_module": "@jupyter-widgets/controls"
          }
        },
        "5c1756b395fd4233b9816848d18e37b4": {
          "model_module": "@jupyter-widgets/base",
          "model_name": "LayoutModel",
          "state": {
            "_view_name": "LayoutView",
            "grid_template_rows": null,
            "right": null,
            "justify_content": null,
            "_view_module": "@jupyter-widgets/base",
            "overflow": null,
            "_model_module_version": "1.2.0",
            "_view_count": null,
            "flex_flow": null,
            "width": null,
            "min_width": null,
            "border": null,
            "align_items": null,
            "bottom": null,
            "_model_module": "@jupyter-widgets/base",
            "top": null,
            "grid_column": null,
            "overflow_y": null,
            "overflow_x": null,
            "grid_auto_flow": null,
            "grid_area": null,
            "grid_template_columns": null,
            "flex": null,
            "_model_name": "LayoutModel",
            "justify_items": null,
            "grid_row": null,
            "max_height": null,
            "align_content": null,
            "visibility": null,
            "align_self": null,
            "height": null,
            "min_height": null,
            "padding": null,
            "grid_auto_rows": null,
            "grid_gap": null,
            "max_width": null,
            "order": null,
            "_view_module_version": "1.2.0",
            "grid_template_areas": null,
            "object_position": null,
            "object_fit": null,
            "grid_auto_columns": null,
            "margin": null,
            "display": null,
            "left": null
          }
        }
      }
    }
  },
  "cells": [
    {
      "cell_type": "code",
      "metadata": {
        "id": "ENCOUe8hjrsN",
        "colab_type": "code",
        "colab": {}
      },
      "source": [
        "import torch \n",
        "import torchvision\n",
        "import torch.nn as nn\n",
        "import torch.optim as optim\n",
        "import torch.nn.functional as F\n",
        "from torch.utils.data import DataLoader\n",
        "\n",
        "import torchvision.datasets as datasets\n",
        "import torchvision.transforms as transforms\n",
        "\n",
        "import matplotlib.pyplot as plt\n",
        "import numpy as np"
      ],
      "execution_count": 0,
      "outputs": []
    },
    {
      "cell_type": "code",
      "metadata": {
        "id": "-lVBvODLmDGa",
        "colab_type": "code",
        "colab": {}
      },
      "source": [
        "device = torch.device('cuda' if torch.cuda.is_available() else 'cpu')"
      ],
      "execution_count": 0,
      "outputs": []
    },
    {
      "cell_type": "markdown",
      "metadata": {
        "id": "Lh0BOMVH93-s",
        "colab_type": "text"
      },
      "source": [
        "# **Discriminator**"
      ]
    },
    {
      "cell_type": "code",
      "metadata": {
        "id": "RJvLlh2r93ib",
        "colab_type": "code",
        "colab": {}
      },
      "source": [
        "class Discriminator(nn.Module):\n",
        "    def __init__(self, channels_img, features_d):\n",
        "        super(Discriminator, self).__init__()\n",
        "        self.net = nn.Sequential(\n",
        "            # N x channels_img x 64 x 64\n",
        "            nn.Conv2d(channels_img, features_d, kernel_size=4, stride=2, padding=1),\n",
        "            nn.LeakyReLU(0.2),\n",
        "            # N x features_d x 32 x 32\n",
        "            nn.Conv2d(features_d, features_d * 2, kernel_size=4, stride=2, padding=1),\n",
        "            nn.BatchNorm2d(features_d * 2),\n",
        "            nn.LeakyReLU(0.2),\n",
        "            nn.Conv2d(\n",
        "                features_d * 2, features_d * 4, kernel_size=4, stride=2, padding=1\n",
        "            ),\n",
        "            nn.BatchNorm2d(features_d * 4),\n",
        "            nn.LeakyReLU(0.2),\n",
        "            nn.Conv2d(\n",
        "                features_d * 4, features_d * 8, kernel_size=4, stride=2, padding=1\n",
        "            ),\n",
        "            nn.BatchNorm2d(features_d * 8),\n",
        "            nn.LeakyReLU(0.2),\n",
        "            # N x features_d*8 x 4 x 4\n",
        "            nn.Conv2d(features_d * 8, 1, kernel_size=4, stride=2, padding=0),\n",
        "            # N x 1 x 1 x 1\n",
        "            nn.Sigmoid(),\n",
        "        )\n",
        "\n",
        "    def forward(self, x):\n",
        "        return self.net(x)"
      ],
      "execution_count": 0,
      "outputs": []
    },
    {
      "cell_type": "markdown",
      "metadata": {
        "id": "eQ-9LTfy9-Bk",
        "colab_type": "text"
      },
      "source": [
        "# **Generator**"
      ]
    },
    {
      "cell_type": "code",
      "metadata": {
        "id": "fwlOv_lJcK-w",
        "colab_type": "code",
        "colab": {}
      },
      "source": [
        "class Generator(nn.Module):\n",
        "    def __init__(self, channels_noise, channels_img, features_g):\n",
        "        super(Generator, self).__init__()\n",
        "\n",
        "        self.net = nn.Sequential(\n",
        "            # N x channels_noise x 1 x 1\n",
        "            nn.ConvTranspose2d(\n",
        "                channels_noise, features_g * 16, kernel_size=4, stride=1, padding=0\n",
        "            ),\n",
        "            nn.BatchNorm2d(features_g * 16),\n",
        "            nn.ReLU(),\n",
        "            # N x features_g*16 x 4 x 4\n",
        "            nn.ConvTranspose2d(\n",
        "                features_g * 16, features_g * 8, kernel_size=4, stride=2, padding=1\n",
        "            ),\n",
        "            nn.BatchNorm2d(features_g * 8),\n",
        "            nn.ReLU(),\n",
        "            nn.ConvTranspose2d(\n",
        "                features_g * 8, features_g * 4, kernel_size=4, stride=2, padding=1\n",
        "            ),\n",
        "            nn.BatchNorm2d(features_g * 4),\n",
        "            nn.ReLU(),\n",
        "            nn.ConvTranspose2d(\n",
        "                features_g * 4, features_g * 2, kernel_size=4, stride=2, padding=1\n",
        "            ),\n",
        "            nn.BatchNorm2d(features_g * 2),\n",
        "            nn.ReLU(),\n",
        "            nn.ConvTranspose2d(\n",
        "                features_g * 2, channels_img, kernel_size=4, stride=2, padding=1\n",
        "            ),\n",
        "            # N x channels_img x 64 x 64\n",
        "            nn.Tanh(),\n",
        "        )\n",
        "\n",
        "    def forward(self, x):\n",
        "        return self.net(x)"
      ],
      "execution_count": 0,
      "outputs": []
    },
    {
      "cell_type": "markdown",
      "metadata": {
        "id": "oSW2Pva0DIe-",
        "colab_type": "text"
      },
      "source": [
        "# **DCGAN**"
      ]
    },
    {
      "cell_type": "code",
      "metadata": {
        "id": "1XvMoOtxDIEh",
        "colab_type": "code",
        "colab": {}
      },
      "source": [
        "lr = 0.0002\n",
        "batch_size = 64\n",
        "image_size = 64\n",
        "channels_img = 1\n",
        "channels_noise = 256\n",
        "num_epochs = 10\n",
        "\n",
        "features_d = 16\n",
        "features_g = 16"
      ],
      "execution_count": 0,
      "outputs": []
    },
    {
      "cell_type": "code",
      "metadata": {
        "id": "z89i75WsDkkX",
        "colab_type": "code",
        "colab": {}
      },
      "source": [
        "my_transforms = transforms.Compose(\n",
        "    [\n",
        "        transforms.Resize(image_size),\n",
        "        transforms.ToTensor(),\n",
        "        transforms.Normalize((0.5,), (0.5,)),\n",
        "    ]\n",
        ")\n"
      ],
      "execution_count": 0,
      "outputs": []
    },
    {
      "cell_type": "code",
      "metadata": {
        "id": "9-mSHyscD4Ca",
        "colab_type": "code",
        "colab": {
          "base_uri": "https://localhost:8080/",
          "height": 369,
          "referenced_widgets": [
            "573512dc6e1f4af2b44166acc907a4cd",
            "0538b9d326374589ba1fc98e5cc52717",
            "41c09041054546a48ed4acc5977d97c8",
            "3b608155764d44299524b495f47c7fce",
            "07a7d4581df84581a5bc9c6bd12f4746",
            "2fc6ac57069d44c3b07530d14c81af99",
            "dffb9c7adc554b12ab70602bedcfa06c",
            "efd166c82aa844998f782871583e0632",
            "7269c0f653d3472db1d9470d1501ae8f",
            "f6fa3a2405f142fcaa112e0dd29b2c45",
            "fa7917aa9fa44bf6a2aa32521514c6b3",
            "df021933a9514df8a5264452f1abfd6a",
            "e16c386e14bd4fcdbbda0d9a82528acd",
            "3212db62ec8d4353a607f1258189c58b",
            "53137b61a8c6485096e564f114bd063d",
            "9e2eeee671694ceb8d5e59120a73b143",
            "0d90d42d7a044bda928d15575f95a155",
            "f41bdccd98d2474a8050728ccf88fc56",
            "f44d4bf25d1f44149f78472cbe167b49",
            "150302d23d734f55a19aeb0e168e586d",
            "df7a774b05694983a38ced05bc3cd772",
            "e3a99c5fc8a448b6bfcb0e19f187abb7",
            "56b1ec25a18b4c699d0bffe15c14b23a",
            "575fa9c207d94b3a9dc68b52ad63e682",
            "c6d06792b1a244d9b1d97c53de1a909c",
            "90b7f2a7543440178e6bbb6409dfc9da",
            "003e794d152840c089e646ff6bb04bf1",
            "842b77a237cf41ec8dde8b71c5e62f39",
            "43d1e8e31f2e40b5a858ca21828791ea",
            "0296949a519f4435911978aee781901a",
            "206833d3a571450bab3e8dc116331382",
            "5c1756b395fd4233b9816848d18e37b4"
          ]
        },
        "outputId": "bea26c56-f6a3-4b46-d456-bc5286684acc"
      },
      "source": [
        "dataset = datasets.MNIST(\n",
        "    root=\"dataset/\", train=True, transform=my_transforms, download=True\n",
        ")\n",
        "dataloader = DataLoader(dataset, batch_size=batch_size, shuffle=True)"
      ],
      "execution_count": 7,
      "outputs": [
        {
          "output_type": "stream",
          "text": [
            "Downloading http://yann.lecun.com/exdb/mnist/train-images-idx3-ubyte.gz to dataset/MNIST/raw/train-images-idx3-ubyte.gz\n"
          ],
          "name": "stdout"
        },
        {
          "output_type": "display_data",
          "data": {
            "application/vnd.jupyter.widget-view+json": {
              "model_id": "573512dc6e1f4af2b44166acc907a4cd",
              "version_minor": 0,
              "version_major": 2
            },
            "text/plain": [
              "HBox(children=(FloatProgress(value=1.0, bar_style='info', max=1.0), HTML(value='')))"
            ]
          },
          "metadata": {
            "tags": []
          }
        },
        {
          "output_type": "stream",
          "text": [
            "Extracting dataset/MNIST/raw/train-images-idx3-ubyte.gz to dataset/MNIST/raw\n",
            "Downloading http://yann.lecun.com/exdb/mnist/train-labels-idx1-ubyte.gz to dataset/MNIST/raw/train-labels-idx1-ubyte.gz\n"
          ],
          "name": "stdout"
        },
        {
          "output_type": "display_data",
          "data": {
            "application/vnd.jupyter.widget-view+json": {
              "model_id": "7269c0f653d3472db1d9470d1501ae8f",
              "version_minor": 0,
              "version_major": 2
            },
            "text/plain": [
              "HBox(children=(FloatProgress(value=1.0, bar_style='info', max=1.0), HTML(value='')))"
            ]
          },
          "metadata": {
            "tags": []
          }
        },
        {
          "output_type": "stream",
          "text": [
            "Extracting dataset/MNIST/raw/train-labels-idx1-ubyte.gz to dataset/MNIST/raw\n",
            "Downloading http://yann.lecun.com/exdb/mnist/t10k-images-idx3-ubyte.gz to dataset/MNIST/raw/t10k-images-idx3-ubyte.gz\n",
            "\n"
          ],
          "name": "stdout"
        },
        {
          "output_type": "display_data",
          "data": {
            "application/vnd.jupyter.widget-view+json": {
              "model_id": "0d90d42d7a044bda928d15575f95a155",
              "version_minor": 0,
              "version_major": 2
            },
            "text/plain": [
              "HBox(children=(FloatProgress(value=1.0, bar_style='info', max=1.0), HTML(value='')))"
            ]
          },
          "metadata": {
            "tags": []
          }
        },
        {
          "output_type": "stream",
          "text": [
            "Extracting dataset/MNIST/raw/t10k-images-idx3-ubyte.gz to dataset/MNIST/raw\n",
            "Downloading http://yann.lecun.com/exdb/mnist/t10k-labels-idx1-ubyte.gz to dataset/MNIST/raw/t10k-labels-idx1-ubyte.gz\n"
          ],
          "name": "stdout"
        },
        {
          "output_type": "display_data",
          "data": {
            "application/vnd.jupyter.widget-view+json": {
              "model_id": "c6d06792b1a244d9b1d97c53de1a909c",
              "version_minor": 0,
              "version_major": 2
            },
            "text/plain": [
              "HBox(children=(FloatProgress(value=1.0, bar_style='info', max=1.0), HTML(value='')))"
            ]
          },
          "metadata": {
            "tags": []
          }
        },
        {
          "output_type": "stream",
          "text": [
            "Extracting dataset/MNIST/raw/t10k-labels-idx1-ubyte.gz to dataset/MNIST/raw\n",
            "Processing...\n",
            "Done!\n"
          ],
          "name": "stdout"
        },
        {
          "output_type": "stream",
          "text": [
            "/pytorch/torch/csrc/utils/tensor_numpy.cpp:141: UserWarning: The given NumPy array is not writeable, and PyTorch does not support non-writeable tensors. This means you can write to the underlying (supposedly non-writeable) NumPy array using the tensor. You may want to copy the array to protect its data or make it writeable before converting it to a tensor. This type of warning will be suppressed for the rest of this program.\n"
          ],
          "name": "stderr"
        }
      ]
    },
    {
      "cell_type": "code",
      "metadata": {
        "id": "91nnjQTGEUQQ",
        "colab_type": "code",
        "colab": {}
      },
      "source": [
        "netD = Discriminator(channels_img, features_d).to(device)\n",
        "netG = Generator(channels_noise, channels_img, features_g).to(device)"
      ],
      "execution_count": 0,
      "outputs": []
    },
    {
      "cell_type": "code",
      "metadata": {
        "id": "DAcwEpq1Ewo9",
        "colab_type": "code",
        "colab": {
          "base_uri": "https://localhost:8080/",
          "height": 306
        },
        "outputId": "c1bc6def-050f-4f67-fcbe-ecbbf7d8b8ce"
      },
      "source": [
        "optimizerD = optim.Adam(netD.parameters(), lr=lr, betas=(0.5, 0.999))\n",
        "optimizerG = optim.Adam(netG.parameters(), lr=lr, betas=(0.5, 0.999))\n",
        "\n",
        "netG.train()\n",
        "netD.train()"
      ],
      "execution_count": 9,
      "outputs": [
        {
          "output_type": "execute_result",
          "data": {
            "text/plain": [
              "Discriminator(\n",
              "  (net): Sequential(\n",
              "    (0): Conv2d(1, 16, kernel_size=(4, 4), stride=(2, 2), padding=(1, 1))\n",
              "    (1): LeakyReLU(negative_slope=0.2)\n",
              "    (2): Conv2d(16, 32, kernel_size=(4, 4), stride=(2, 2), padding=(1, 1))\n",
              "    (3): BatchNorm2d(32, eps=1e-05, momentum=0.1, affine=True, track_running_stats=True)\n",
              "    (4): LeakyReLU(negative_slope=0.2)\n",
              "    (5): Conv2d(32, 64, kernel_size=(4, 4), stride=(2, 2), padding=(1, 1))\n",
              "    (6): BatchNorm2d(64, eps=1e-05, momentum=0.1, affine=True, track_running_stats=True)\n",
              "    (7): LeakyReLU(negative_slope=0.2)\n",
              "    (8): Conv2d(64, 128, kernel_size=(4, 4), stride=(2, 2), padding=(1, 1))\n",
              "    (9): BatchNorm2d(128, eps=1e-05, momentum=0.1, affine=True, track_running_stats=True)\n",
              "    (10): LeakyReLU(negative_slope=0.2)\n",
              "    (11): Conv2d(128, 1, kernel_size=(4, 4), stride=(2, 2))\n",
              "    (12): Sigmoid()\n",
              "  )\n",
              ")"
            ]
          },
          "metadata": {
            "tags": []
          },
          "execution_count": 9
        }
      ]
    },
    {
      "cell_type": "code",
      "metadata": {
        "id": "qmnaUJjMFKzC",
        "colab_type": "code",
        "colab": {}
      },
      "source": [
        "criterion = nn.BCELoss()\n",
        "\n",
        "real_label = 1\n",
        "fake_label = 0\n",
        "\n",
        "fixed_noise = torch.randn(64, channels_noise, 1, 1).to(device)"
      ],
      "execution_count": 0,
      "outputs": []
    },
    {
      "cell_type": "code",
      "metadata": {
        "id": "ifae80j6Fgow",
        "colab_type": "code",
        "colab": {
          "base_uri": "https://localhost:8080/",
          "height": 1000
        },
        "outputId": "1416e19f-183b-4b50-e025-d8bc2d3adef8"
      },
      "source": [
        "for epoch in range(num_epochs):\n",
        "    for batch_idx, (data, targets) in enumerate(dataloader):\n",
        "        data = data.to(device)\n",
        "        batch_size = data.shape[0]\n",
        "\n",
        "        ### Train Discriminator: max log(D(x)) + log(1 - D(G(z)))\n",
        "        netD.zero_grad()\n",
        "        label = (torch.ones(batch_size) * 0.9).to(device)\n",
        "        output = netD(data).reshape(-1)\n",
        "        lossD_real = criterion(output, label)\n",
        "        D_x = output.mean().item()\n",
        "\n",
        "        noise = torch.randn(batch_size, channels_noise, 1, 1).to(device)\n",
        "        fake = netG(noise)\n",
        "        label = (torch.ones(batch_size) * 0.1).to(device)\n",
        "\n",
        "        output = netD(fake.detach()).reshape(-1)\n",
        "        lossD_fake = criterion(output, label)\n",
        "\n",
        "        lossD = lossD_real + lossD_fake\n",
        "        lossD.backward()\n",
        "        optimizerD.step()\n",
        "\n",
        "        ### Train Generator: max log(D(G(z)))\n",
        "        netG.zero_grad()\n",
        "        label = torch.ones(batch_size).to(device)\n",
        "        output = netD(fake).reshape(-1)\n",
        "        lossG = criterion(output, label)\n",
        "        lossG.backward()\n",
        "        optimizerG.step()\n",
        "\n",
        "        # Print losses ocassionally and print to tensorboard\n",
        "        if batch_idx % 100 == 0:\n",
        "            print(\n",
        "                f\"Epoch [{epoch}/{num_epochs}] Batch {batch_idx}/{len(dataloader)} \\\n",
        "                  Loss D: {lossD:.4f}, loss G: {lossG:.4f} D(x): {D_x:.4f}\"\n",
        "            )\n",
        "\n",
        "            with torch.no_grad():\n",
        "                fake = netG(fixed_noise)\n",
        "\n",
        "                img_grid_real = torchvision.utils.make_grid(data[:32], normalize=True)\n",
        "                img_grid_fake = torchvision.utils.make_grid(fake[:32], normalize=True)\n",
        "                # writer_real.add_image(\"Mnist Real Images\", img_grid_real)\n",
        "                # writer_real.add_image(\"Mnist Fake Images\", img_grid_fake)\n",
        "                plt.imshow(np.transpose(img_grid_real.cpu().numpy(), (1,2,0)))\n",
        "                plt.imshow(np.transpose(img_grid_fake.cpu().numpy(),(1,2,0)))"
      ],
      "execution_count": 14,
      "outputs": [
        {
          "output_type": "stream",
          "text": [
            "Epoch [0/10] Batch 0/938                   Loss D: 1.4123, loss G: 0.8170 D(x): 0.7007\n",
            "Epoch [0/10] Batch 100/938                   Loss D: 0.6717, loss G: 3.0221 D(x): 0.8721\n",
            "Epoch [0/10] Batch 200/938                   Loss D: 0.6963, loss G: 2.1750 D(x): 0.8491\n",
            "Epoch [0/10] Batch 300/938                   Loss D: 0.7104, loss G: 2.3704 D(x): 0.8237\n",
            "Epoch [0/10] Batch 400/938                   Loss D: 1.0389, loss G: 3.6829 D(x): 0.9348\n",
            "Epoch [0/10] Batch 500/938                   Loss D: 0.7769, loss G: 1.7306 D(x): 0.7381\n",
            "Epoch [0/10] Batch 600/938                   Loss D: 0.7399, loss G: 2.0818 D(x): 0.8371\n",
            "Epoch [0/10] Batch 700/938                   Loss D: 0.9287, loss G: 2.0569 D(x): 0.8294\n",
            "Epoch [0/10] Batch 800/938                   Loss D: 0.8650, loss G: 1.0834 D(x): 0.6811\n",
            "Epoch [0/10] Batch 900/938                   Loss D: 1.0633, loss G: 0.8127 D(x): 0.5071\n",
            "Epoch [1/10] Batch 0/938                   Loss D: 0.8877, loss G: 1.6586 D(x): 0.8446\n",
            "Epoch [1/10] Batch 100/938                   Loss D: 0.8374, loss G: 1.2361 D(x): 0.7452\n",
            "Epoch [1/10] Batch 200/938                   Loss D: 0.8471, loss G: 2.0691 D(x): 0.8546\n",
            "Epoch [1/10] Batch 300/938                   Loss D: 0.9415, loss G: 1.4676 D(x): 0.7505\n",
            "Epoch [1/10] Batch 400/938                   Loss D: 0.8244, loss G: 1.6680 D(x): 0.8336\n",
            "Epoch [1/10] Batch 500/938                   Loss D: 0.7584, loss G: 1.7015 D(x): 0.7779\n",
            "Epoch [1/10] Batch 600/938                   Loss D: 0.9585, loss G: 1.1449 D(x): 0.5677\n",
            "Epoch [1/10] Batch 700/938                   Loss D: 0.7890, loss G: 2.2564 D(x): 0.8232\n",
            "Epoch [1/10] Batch 800/938                   Loss D: 0.7886, loss G: 1.3979 D(x): 0.7359\n",
            "Epoch [1/10] Batch 900/938                   Loss D: 8.4063, loss G: 0.4048 D(x): 0.0003\n",
            "Epoch [2/10] Batch 0/938                   Loss D: 0.8579, loss G: 1.9020 D(x): 0.8260\n",
            "Epoch [2/10] Batch 100/938                   Loss D: 0.8446, loss G: 1.2814 D(x): 0.6603\n",
            "Epoch [2/10] Batch 200/938                   Loss D: 0.8122, loss G: 2.4386 D(x): 0.8418\n",
            "Epoch [2/10] Batch 300/938                   Loss D: 0.7902, loss G: 1.5969 D(x): 0.7577\n",
            "Epoch [2/10] Batch 400/938                   Loss D: 0.9059, loss G: 1.1523 D(x): 0.6042\n",
            "Epoch [2/10] Batch 500/938                   Loss D: 0.8596, loss G: 0.9947 D(x): 0.6555\n",
            "Epoch [2/10] Batch 600/938                   Loss D: 0.8321, loss G: 1.7472 D(x): 0.8361\n",
            "Epoch [2/10] Batch 700/938                   Loss D: 0.7932, loss G: 1.5517 D(x): 0.7584\n",
            "Epoch [2/10] Batch 800/938                   Loss D: 0.8276, loss G: 1.3536 D(x): 0.6885\n",
            "Epoch [2/10] Batch 900/938                   Loss D: 0.8295, loss G: 1.3914 D(x): 0.6891\n",
            "Epoch [3/10] Batch 0/938                   Loss D: 0.7828, loss G: 1.2820 D(x): 0.7494\n",
            "Epoch [3/10] Batch 100/938                   Loss D: 0.8330, loss G: 1.9105 D(x): 0.8214\n",
            "Epoch [3/10] Batch 200/938                   Loss D: 0.8396, loss G: 2.2136 D(x): 0.9057\n",
            "Epoch [3/10] Batch 300/938                   Loss D: 0.7386, loss G: 1.8110 D(x): 0.7783\n",
            "Epoch [3/10] Batch 400/938                   Loss D: 0.7430, loss G: 1.8732 D(x): 0.7686\n",
            "Epoch [3/10] Batch 500/938                   Loss D: 0.7904, loss G: 1.3343 D(x): 0.7225\n",
            "Epoch [3/10] Batch 600/938                   Loss D: 0.7928, loss G: 1.4947 D(x): 0.7416\n",
            "Epoch [3/10] Batch 700/938                   Loss D: 0.7379, loss G: 1.7231 D(x): 0.8258\n",
            "Epoch [3/10] Batch 800/938                   Loss D: 1.0080, loss G: 1.9748 D(x): 0.8662\n",
            "Epoch [3/10] Batch 900/938                   Loss D: 0.7658, loss G: 1.6585 D(x): 0.8090\n",
            "Epoch [4/10] Batch 0/938                   Loss D: 0.8107, loss G: 1.5828 D(x): 0.6970\n",
            "Epoch [4/10] Batch 100/938                   Loss D: 0.7622, loss G: 1.5054 D(x): 0.7443\n",
            "Epoch [4/10] Batch 200/938                   Loss D: 0.9194, loss G: 1.6848 D(x): 0.6077\n",
            "Epoch [4/10] Batch 300/938                   Loss D: 1.0323, loss G: 1.2998 D(x): 0.6790\n",
            "Epoch [4/10] Batch 400/938                   Loss D: 0.7730, loss G: 1.6444 D(x): 0.7596\n",
            "Epoch [4/10] Batch 500/938                   Loss D: 0.7486, loss G: 2.0333 D(x): 0.8428\n",
            "Epoch [4/10] Batch 600/938                   Loss D: 0.7635, loss G: 1.9468 D(x): 0.8528\n",
            "Epoch [4/10] Batch 700/938                   Loss D: 0.7431, loss G: 2.2126 D(x): 0.8286\n",
            "Epoch [4/10] Batch 800/938                   Loss D: 0.7531, loss G: 2.2478 D(x): 0.8457\n",
            "Epoch [4/10] Batch 900/938                   Loss D: 0.8065, loss G: 1.7344 D(x): 0.7442\n",
            "Epoch [5/10] Batch 0/938                   Loss D: 0.8638, loss G: 2.9344 D(x): 0.9421\n",
            "Epoch [5/10] Batch 100/938                   Loss D: 0.7380, loss G: 1.8347 D(x): 0.7921\n",
            "Epoch [5/10] Batch 200/938                   Loss D: 0.9084, loss G: 3.5575 D(x): 0.9175\n",
            "Epoch [5/10] Batch 300/938                   Loss D: 0.8226, loss G: 1.4413 D(x): 0.6810\n",
            "Epoch [5/10] Batch 400/938                   Loss D: 0.8329, loss G: 1.8495 D(x): 0.8032\n",
            "Epoch [5/10] Batch 500/938                   Loss D: 0.7096, loss G: 2.4345 D(x): 0.8544\n",
            "Epoch [5/10] Batch 600/938                   Loss D: 0.7489, loss G: 2.0212 D(x): 0.8083\n",
            "Epoch [5/10] Batch 700/938                   Loss D: 0.7803, loss G: 1.6040 D(x): 0.7731\n",
            "Epoch [5/10] Batch 800/938                   Loss D: 0.7421, loss G: 1.6269 D(x): 0.8131\n",
            "Epoch [5/10] Batch 900/938                   Loss D: 0.7448, loss G: 1.4987 D(x): 0.7597\n",
            "Epoch [6/10] Batch 0/938                   Loss D: 0.7272, loss G: 1.6347 D(x): 0.7806\n",
            "Epoch [6/10] Batch 100/938                   Loss D: 0.9347, loss G: 0.7001 D(x): 0.5859\n",
            "Epoch [6/10] Batch 200/938                   Loss D: 0.6894, loss G: 2.2505 D(x): 0.8630\n",
            "Epoch [6/10] Batch 300/938                   Loss D: 0.7203, loss G: 2.2256 D(x): 0.7866\n",
            "Epoch [6/10] Batch 400/938                   Loss D: 0.7199, loss G: 2.3448 D(x): 0.8253\n",
            "Epoch [6/10] Batch 500/938                   Loss D: 0.7689, loss G: 1.7267 D(x): 0.7381\n",
            "Epoch [6/10] Batch 600/938                   Loss D: 0.7322, loss G: 1.8827 D(x): 0.7839\n",
            "Epoch [6/10] Batch 700/938                   Loss D: 0.8117, loss G: 1.2714 D(x): 0.7168\n",
            "Epoch [6/10] Batch 800/938                   Loss D: 0.7033, loss G: 1.8597 D(x): 0.8139\n",
            "Epoch [6/10] Batch 900/938                   Loss D: 0.7247, loss G: 1.9802 D(x): 0.8366\n",
            "Epoch [7/10] Batch 0/938                   Loss D: 0.7762, loss G: 2.8384 D(x): 0.9117\n",
            "Epoch [7/10] Batch 100/938                   Loss D: 0.8906, loss G: 1.3312 D(x): 0.6942\n",
            "Epoch [7/10] Batch 200/938                   Loss D: 0.9092, loss G: 1.5902 D(x): 0.6101\n",
            "Epoch [7/10] Batch 300/938                   Loss D: 0.7530, loss G: 2.4829 D(x): 0.9083\n",
            "Epoch [7/10] Batch 400/938                   Loss D: 0.7268, loss G: 1.6657 D(x): 0.7819\n",
            "Epoch [7/10] Batch 500/938                   Loss D: 0.6873, loss G: 2.1942 D(x): 0.8571\n",
            "Epoch [7/10] Batch 600/938                   Loss D: 0.6956, loss G: 1.9660 D(x): 0.8393\n",
            "Epoch [7/10] Batch 700/938                   Loss D: 0.8205, loss G: 1.6399 D(x): 0.7659\n",
            "Epoch [7/10] Batch 800/938                   Loss D: 0.7692, loss G: 2.0322 D(x): 0.7352\n",
            "Epoch [7/10] Batch 900/938                   Loss D: 0.7080, loss G: 2.7439 D(x): 0.9074\n",
            "Epoch [8/10] Batch 0/938                   Loss D: 0.7625, loss G: 1.7715 D(x): 0.8210\n",
            "Epoch [8/10] Batch 100/938                   Loss D: 0.7332, loss G: 1.6509 D(x): 0.7717\n",
            "Epoch [8/10] Batch 200/938                   Loss D: 0.7460, loss G: 1.6322 D(x): 0.7542\n",
            "Epoch [8/10] Batch 300/938                   Loss D: 0.7106, loss G: 1.8781 D(x): 0.8265\n",
            "Epoch [8/10] Batch 400/938                   Loss D: 0.7471, loss G: 2.0641 D(x): 0.8813\n",
            "Epoch [8/10] Batch 500/938                   Loss D: 1.1628, loss G: 1.2731 D(x): 0.7117\n",
            "Epoch [8/10] Batch 600/938                   Loss D: 0.7484, loss G: 1.4550 D(x): 0.7443\n",
            "Epoch [8/10] Batch 700/938                   Loss D: 0.7082, loss G: 2.3780 D(x): 0.8223\n",
            "Epoch [8/10] Batch 800/938                   Loss D: 0.6932, loss G: 1.9040 D(x): 0.8380\n",
            "Epoch [8/10] Batch 900/938                   Loss D: 0.7147, loss G: 2.5311 D(x): 0.9338\n",
            "Epoch [9/10] Batch 0/938                   Loss D: 0.7221, loss G: 2.4440 D(x): 0.9277\n",
            "Epoch [9/10] Batch 100/938                   Loss D: 0.8959, loss G: 3.5205 D(x): 0.9099\n",
            "Epoch [9/10] Batch 200/938                   Loss D: 0.6879, loss G: 2.4035 D(x): 0.8594\n",
            "Epoch [9/10] Batch 300/938                   Loss D: 0.8278, loss G: 1.0719 D(x): 0.6764\n",
            "Epoch [9/10] Batch 400/938                   Loss D: 0.7567, loss G: 1.9691 D(x): 0.7841\n",
            "Epoch [9/10] Batch 500/938                   Loss D: 0.6877, loss G: 2.0698 D(x): 0.8642\n",
            "Epoch [9/10] Batch 600/938                   Loss D: 0.6842, loss G: 2.4581 D(x): 0.8561\n",
            "Epoch [9/10] Batch 700/938                   Loss D: 0.6952, loss G: 1.8990 D(x): 0.8249\n",
            "Epoch [9/10] Batch 800/938                   Loss D: 0.7104, loss G: 2.1989 D(x): 0.8943\n",
            "Epoch [9/10] Batch 900/938                   Loss D: 1.2320, loss G: 3.8984 D(x): 0.8082\n"
          ],
          "name": "stdout"
        },
        {
          "output_type": "display_data",
          "data": {
            "image/png": "[encoded data removed]",
            "text/plain": [
              "<Figure size 432x288 with 1 Axes>"
            ]
          },
          "metadata": {
            "tags": [],
            "needs_background": "light"
          }
        }
      ]
    },
    {
      "cell_type": "code",
      "metadata": {
        "id": "sstwdB4oe8vw",
        "colab_type": "code",
        "colab": {
          "base_uri": "https://localhost:8080/",
          "height": 302
        },
        "outputId": "91c3af83-682a-4000-f37c-c4fb9b34d5cc"
      },
      "source": [
        "test = netG(torch.randn(1, channels_noise, 1, 1).to(device))\n",
        "test = test.squeeze()\n",
        "print(test.shape)\n",
        "plt.imshow(test.cpu().detach().numpy())"
      ],
      "execution_count": 24,
      "outputs": [
        {
          "output_type": "stream",
          "text": [
            "torch.Size([64, 64])\n"
          ],
          "name": "stdout"
        },
        {
          "output_type": "execute_result",
          "data": {
            "text/plain": [
              "<matplotlib.image.AxesImage at 0x7f50113c5f28>"
            ]
          },
          "metadata": {
            "tags": []
          },
          "execution_count": 24
        },
        {
          "output_type": "display_data",
          "data": {
            "image/png": "[encoded data removed]",
            "text/plain": [
              "<Figure size 432x288 with 1 Axes>"
            ]
          },
          "metadata": {
            "tags": [],
            "needs_background": "light"
          }
        }
      ]
    },
    {
      "cell_type": "code",
      "metadata": {
        "id": "MSZuBQXslyOe",
        "colab_type": "code",
        "colab": {}
      },
      "source": [
        ""
      ],
      "execution_count": 0,
      "outputs": []
    }
  ]
}